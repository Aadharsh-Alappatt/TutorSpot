{
 "cells": [
  {
   "cell_type": "code",
   "execution_count": 8,
   "id": "28831c4a",
   "metadata": {},
   "outputs": [
    {
     "name": "stdout",
     "output_type": "stream",
     "text": [
      "10 credentials written to credentials.csv\n"
     ]
    }
   ],
   "source": [
    "import csv\n",
    "import secrets\n",
    "import string\n",
    "\n",
    "ngoName='Ayuda'\n",
    "# Define the number of credentials to generate\n",
    "num_credentials = 10\n",
    "\n",
    "# Open a new CSV file in write mode\n",
    "with open('creds.csv', mode='w', newline='') as file:\n",
    "    writer = csv.writer(file)\n",
    "    # writer.writerow(['email','username','password','completed','ngo'])\n",
    "\n",
    "    # Generate and write each set of credentials to the CSV file in a loop\n",
    "    for i in range(num_credentials):\n",
    "        # Generate a random username\n",
    "        email_length = 8\n",
    "        email = ''.join(secrets.choice(string.ascii_lowercase) for i in range(email_length))\n",
    "        email+=\"@gmail.com\"\n",
    "        # Generate a random password\n",
    "        password_length = 10\n",
    "        alphabet = string.ascii_letters + string.digits + string.punctuation\n",
    "        password = ''.join(secrets.choice(alphabet) for i in range(password_length))\n",
    "        \n",
    "        username_length = 5\n",
    "        username = ''.join(secrets.choice(string.ascii_lowercase) for i in range(username_length))\n",
    "        # Write the generated credentials to the CSV file\n",
    "        writer.writerow([email,username, password,\"na\",ngoName])\n",
    "\n",
    "# Print a message to confirm that the credentials were written to the file\n",
    "print(f\"{num_credentials} credentials written to credentials.csv\")\n"
   ]
  },
  {
   "cell_type": "code",
   "execution_count": null,
   "id": "8ccc08d6",
   "metadata": {},
   "outputs": [],
   "source": []
  },
  {
   "cell_type": "code",
   "execution_count": null,
   "id": "cc0e8e3b",
   "metadata": {},
   "outputs": [],
   "source": []
  }
 ],
 "metadata": {
  "kernelspec": {
   "display_name": "Python 3 (ipykernel)",
   "language": "python",
   "name": "python3"
  },
  "language_info": {
   "codemirror_mode": {
    "name": "ipython",
    "version": 3
   },
   "file_extension": ".py",
   "mimetype": "text/x-python",
   "name": "python",
   "nbconvert_exporter": "python",
   "pygments_lexer": "ipython3",
   "version": "3.9.12"
  }
 },
 "nbformat": 4,
 "nbformat_minor": 5
}
